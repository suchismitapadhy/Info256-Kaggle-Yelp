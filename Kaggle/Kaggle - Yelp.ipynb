{
 "cells": [
  {
   "cell_type": "markdown",
   "metadata": {},
   "source": [
    "### Imports"
   ]
  },
  {
   "cell_type": "code",
   "execution_count": 1,
   "metadata": {
    "collapsed": false
   },
   "outputs": [],
   "source": [
    "import pandas as pd\n",
    "import nltk, re, string\n",
    "import numpy as np\n",
    "from sklearn.feature_extraction.text import TfidfVectorizer\n",
    "from sklearn.feature_selection import SelectKBest, chi2\n",
    "from sklearn import svm\n",
    "from sklearn.linear_model import SGDClassifier\n",
    "\n",
    "from sklearn import linear_model\n",
    "\n",
    "from sklearn.metrics import confusion_matrix\n",
    "import sklearn.metrics as metrics\n",
    "import itertools\n",
    "%matplotlib inline\n",
    "import matplotlib.pyplot as plt"
   ]
  },
  {
   "cell_type": "code",
   "execution_count": 4,
   "metadata": {
    "collapsed": false
   },
   "outputs": [],
   "source": [
    "df = pd.read_csv(\"yelp_data_official_training.csv\", sep = \"|\", )\n",
    "df = df[df[\"Review Text\"].notnull()]\n"
   ]
  },
  {
   "cell_type": "code",
   "execution_count": 21,
   "metadata": {
    "collapsed": false
   },
   "outputs": [],
   "source": [
    "df_pet_vet = df[(df.Category >=5)]\n",
    "df_pet_vet.apply(np.random.permutation)\n",
    "df_train = df_pet_vet[:round(0.8*len(df_pet_vet))]\n",
    "df_test = df_pet_vet[round(0.8*len(df_pet_vet)):]"
   ]
  },
  {
   "cell_type": "code",
   "execution_count": 22,
   "metadata": {
    "collapsed": true
   },
   "outputs": [],
   "source": [
    "X_train, X_test = feature_extraction(df_train, df_test)"
   ]
  },
  {
   "cell_type": "code",
   "execution_count": 34,
   "metadata": {
    "collapsed": false
   },
   "outputs": [
    {
     "name": "stdout",
     "output_type": "stream",
     "text": [
      "0.892055267703\n"
     ]
    }
   ],
   "source": [
    "clf = classify_train(\"svm_rbf\", X_train, df_train.Category)\n",
    "predictions = classify_predict(clf, X_test)\n",
    "print(check_val_score(predictions, df_test.Category))\n",
    "cnf_matrix =confusion_matrix(df_test.Category,predictions)"
   ]
  },
  {
   "cell_type": "code",
   "execution_count": 35,
   "metadata": {
    "collapsed": false
   },
   "outputs": [
    {
     "data": {
      "text/plain": [
       "array([[827,  44],\n",
       "       [ 81, 206]])"
      ]
     },
     "execution_count": 35,
     "metadata": {},
     "output_type": "execute_result"
    }
   ],
   "source": [
    "cnf_matrix"
   ]
  },
  {
   "cell_type": "markdown",
   "metadata": {},
   "source": [
    "### Preprocess Data"
   ]
  },
  {
   "cell_type": "code",
   "execution_count": 36,
   "metadata": {
    "collapsed": false
   },
   "outputs": [],
   "source": [
    "# Reads the csv file and load into dataframe and divides it into training and test set\n",
    "def read_data(run_type):\n",
    "    df = pd.read_csv(\"yelp_data_official_training.csv\", sep = \"|\", )\n",
    "    df = df[df[\"Review Text\"].notnull()]\n",
    "    if run_type == \"train\":\n",
    "        df.apply(np.random.permutation)\n",
    "        df_train = df[:round(0.8*len(df))]\n",
    "        df_test = df[round(0.8*len(df)):]\n",
    "    else:\n",
    "        df_train = df\n",
    "        df_test = pd.read_csv(\"yelp_data_official_test_nocategories.csv\", sep=\"|\")\n",
    "    return df_train, df_test"
   ]
  },
  {
   "cell_type": "markdown",
   "metadata": {},
   "source": [
    "### Tokenization"
   ]
  },
  {
   "cell_type": "code",
   "execution_count": 13,
   "metadata": {
    "collapsed": false
   },
   "outputs": [],
   "source": [
    "def build_tokens(text):\n",
    "    tokens = nltk.tokenize.word_tokenize(text)\n",
    "    tokens = [nltk.WordNetLemmatizer().lemmatize(token) for token in tokens if token.isalpha() and len(token)>3]\n",
    "    tokens= [nltk.PorterStemmer().stem(token) for token in tokens]\n",
    "    return tokens"
   ]
  },
  {
   "cell_type": "markdown",
   "metadata": {},
   "source": [
    "### Feature Extraction"
   ]
  },
  {
   "cell_type": "code",
   "execution_count": 14,
   "metadata": {
    "collapsed": false
   },
   "outputs": [],
   "source": [
    "# tfidf feature extraction and chi2 selection\n",
    "def feature_extraction(df_train, df_test):\n",
    "    vectorizer = TfidfVectorizer(sublinear_tf=True, max_df=0.5, stop_words='english', ngram_range=(1,2), analyzer= \"word\", tokenizer= build_tokens ,min_df=10,max_features=4000) #current best for max_features = 4000\n",
    "    X_train = vectorizer.fit_transform(df_train[\"Review Text\"])\n",
    "    X_test = vectorizer.transform(df_test[\"Review Text\"])\n",
    "\n",
    "    ch2 = SelectKBest(chi2, k = 2000) #current best for k=2000\n",
    "    X_train = ch2.fit_transform(X_train, df_train.Category)\n",
    "    X_test = ch2.transform(X_test)\n",
    "    \n",
    "    ####### Debug run #######\n",
    "    # feature_names = vectorizer.get_feature_names()\n",
    "    # feature_names = [feature_names[i] for i in ch2.get_support(indices=True)]\n",
    "    \n",
    "    return X_train, X_test"
   ]
  },
  {
   "cell_type": "markdown",
   "metadata": {},
   "source": [
    "### Classifier"
   ]
  },
  {
   "cell_type": "code",
   "execution_count": 33,
   "metadata": {
    "collapsed": false
   },
   "outputs": [],
   "source": [
    "# \n",
    "def classify_train(clf_type, X_train, train_category):\n",
    "    if clf_type == \"logreg\":\n",
    "        logreg = linear_model.LogisticRegression(C=0.5e2, max_iter=1000)\n",
    "        logreg.fit(X_train, train_category)\n",
    "        return logreg\n",
    "    elif clf_type == \"svm_rbf\":\n",
    "        clf = svm.SVC(kernel='rbf', gamma=0.8, C=1, decision_function_shape=\"ovr\", class_weight='balanced')\n",
    "        clf.fit(X_train, train_category)\n",
    "        return clf\n",
    "    elif clf_type == \"svm_linear\":\n",
    "        clf = svm.SVC(kernel = 'linear', probability = True)\n",
    "        clf.fit(X_train, train_category)\n",
    "        return clf\n",
    "    \n",
    "    elif clf_type == \"sgd\":\n",
    "        clf = SGDClassifier(loss='hinge', penalty='l2',alpha=1e-3, n_iter=5, random_state=42)\n",
    "        clf.fit(X_train, train_category)\n",
    "        return clf\n",
    "  \n",
    "\n",
    "        "
   ]
  },
  {
   "cell_type": "code",
   "execution_count": 16,
   "metadata": {
    "collapsed": false
   },
   "outputs": [],
   "source": [
    "\n",
    "def classify_predict(clf, X_test):\n",
    "    predictions = clf.predict(X_test)\n",
    "    return predictions\n",
    "\n",
    "def check_val_score(predictions, true_vals):\n",
    "    return metrics.accuracy_score(true_vals,predictions)"
   ]
  },
  {
   "cell_type": "code",
   "execution_count": 41,
   "metadata": {
    "collapsed": false
   },
   "outputs": [],
   "source": [
    "\n",
    "def write_output(predictions):\n",
    "    output = pd.DataFrame(predictions)\n",
    "    output.columns = [\"Category\"]\n",
    "    output.index.names = [\"Id\"]\n",
    "    output.to_csv(path_or_buf=\"submission.csv\", sep=\",\")"
   ]
  },
  {
   "cell_type": "code",
   "execution_count": 42,
   "metadata": {
    "collapsed": false
   },
   "outputs": [],
   "source": [
    "\n",
    "def training_run():\n",
    "    df_train, df_test = read_data(\"train\")\n",
    "    X_train, X_test = feature_extraction(df_train, df_test)\n",
    "    clf = classify_train(\"sgd\", X_train, df_train.Category)\n",
    "\n",
    "    predictions = classify_predict(clf, X_test)\n",
    "    print(check_val_score(predictions, df_test.Category))\n",
    "\n",
    "    \n",
    "def test_run():\n",
    "    df_train, df_test = read_data(\"test\")\n",
    "    X_train,X_test = feature_extraction(df_train, df_test)\n",
    "    clf = classify_train(\"sgd\", X_train, df_train.Category)\n",
    "\n",
    "    predictions = classify_predict(clf, X_test)\n",
    "    write_output(predictions)"
   ]
  },
  {
   "cell_type": "code",
   "execution_count": 43,
   "metadata": {
    "collapsed": false
   },
   "outputs": [
    {
     "name": "stdout",
     "output_type": "stream",
     "text": [
      "0.830104166667\n"
     ]
    }
   ],
   "source": [
    "training_run()"
   ]
  },
  {
   "cell_type": "code",
   "execution_count": 10,
   "metadata": {
    "collapsed": true
   },
   "outputs": [],
   "source": [
    "test_run()"
   ]
  },
  {
   "cell_type": "code",
   "execution_count": 81,
   "metadata": {
    "collapsed": true
   },
   "outputs": [],
   "source": [
    "df_train, df_test = read_data(\"train\")\n",
    "X_train, X_test = feature_extraction(df_train, df_test)"
   ]
  },
  {
   "cell_type": "code",
   "execution_count": 82,
   "metadata": {
    "collapsed": false
   },
   "outputs": [],
   "source": [
    "clf1 = classify_train(\"logreg\", X_train, df_train.Category)\n",
    "clf2 = classify_train(\"svm_rbf\", X_train, df_train.Category)\n",
    "clf3 = classify_train(\"svm_linear\", X_train, df_train.Category)"
   ]
  },
  {
   "cell_type": "code",
   "execution_count": 83,
   "metadata": {
    "collapsed": true
   },
   "outputs": [],
   "source": [
    "pred1 = classify_predict(clf, X_test)\n",
    "pred2 = classify_predict(clf2, X_test)\n",
    "pred3 = classify_predict(clf3, X_test)"
   ]
  },
  {
   "cell_type": "code",
   "execution_count": 92,
   "metadata": {
    "collapsed": false
   },
   "outputs": [],
   "source": [
    "# pred_comb = pd.DataFrame()\n",
    "# pred_comb[\"clf1\"] = pred1\n",
    "# pred_comb[\"clf2\"] = pred2\n",
    "# pred_comb[\"clf3\"] = pred3\n",
    "# predictions = pred_comb.mode(axis=1)"
   ]
  },
  {
   "cell_type": "code",
   "execution_count": 99,
   "metadata": {
    "collapsed": false
   },
   "outputs": [],
   "source": [
    "predictions =pred2"
   ]
  },
  {
   "cell_type": "code",
   "execution_count": 100,
   "metadata": {
    "collapsed": false
   },
   "outputs": [
    {
     "name": "stdout",
     "output_type": "stream",
     "text": [
      "0.8721875\n"
     ]
    }
   ],
   "source": [
    "print(check_val_score(predictions, df_test.Category))"
   ]
  },
  {
   "cell_type": "code",
   "execution_count": 108,
   "metadata": {
    "collapsed": false
   },
   "outputs": [],
   "source": [
    "cnf_matrix =confusion_matrix(df_test.Category,predictions)"
   ]
  },
  {
   "cell_type": "code",
   "execution_count": 109,
   "metadata": {
    "collapsed": false
   },
   "outputs": [],
   "source": [
    "def plot_confusion_matrix(cm, classes,\n",
    "                          normalize=False,\n",
    "                          title='Confusion matrix',\n",
    "                          cmap=plt.cm.Blues):\n",
    "    \"\"\"\n",
    "    This function prints and plots the confusion matrix.\n",
    "    Normalization can be applied by setting `normalize=True`.\n",
    "    \"\"\"\n",
    "    plt.imshow(cm, interpolation='nearest', cmap=cmap)\n",
    "    plt.title(title)\n",
    "    plt.colorbar()\n",
    "    tick_marks = np.arange(len(classes))\n",
    "    plt.xticks(tick_marks, classes, rotation=45)\n",
    "    plt.yticks(tick_marks, classes)\n",
    "\n",
    "    if normalize:\n",
    "        cm = cm.astype('float') / cm.sum(axis=1)[:, np.newaxis]\n",
    "        print(\"Normalized confusion matrix\")\n",
    "    else:\n",
    "        print('Confusion matrix, without normalization')\n",
    "\n",
    "    print(cm)\n",
    "\n",
    "    thresh = cm.max() / 2.\n",
    "    for i, j in itertools.product(range(cm.shape[0]), range(cm.shape[1])):\n",
    "        plt.text(j, i, cm[i, j],\n",
    "                 horizontalalignment=\"center\",\n",
    "                 color=\"white\" if cm[i, j] > thresh else \"black\")\n",
    "\n",
    "    plt.tight_layout()\n",
    "    plt.ylabel('True label')\n",
    "    plt.xlabel('Predicted label')"
   ]
  },
  {
   "cell_type": "code",
   "execution_count": 115,
   "metadata": {
    "collapsed": false
   },
   "outputs": [
    {
     "name": "stdout",
     "output_type": "stream",
     "text": [
      "Confusion matrix, without normalization\n",
      "[[3068   28  197   94    1    1]\n",
      " [  44 1068   28  179    1   13]\n",
      " [  49   23 2095   41    2    0]\n",
      " [  74  159   87 1214    2    0]\n",
      " [   6    5   53    4  764   17]\n",
      " [  13   12    3   10   81  164]]\n"
     ]
    },
    {
     "data": {
      "image/png": "[encoded data removed]",
      "text/plain": [
       "<matplotlib.figure.Figure at 0x121d11f28>"
      ]
     },
     "metadata": {},
     "output_type": "display_data"
    }
   ],
   "source": [
    "plot_confusion_matrix(cnf_matrix, classes=[\"Beauty & Spa\", \"Home Services\", \"Health & Medical\", \"Local Services\", \"Veterinarians\", \"Pets\"], title='Confusion matrix, without normalization')"
   ]
  },
  {
   "cell_type": "code",
   "execution_count": null,
   "metadata": {
    "collapsed": true
   },
   "outputs": [],
   "source": []
  }
 ],
 "metadata": {
  "anaconda-cloud": {},
  "kernelspec": {
   "display_name": "Python [Root]",
   "language": "python",
   "name": "Python [Root]"
  },
  "language_info": {
   "codemirror_mode": {
    "name": "ipython",
    "version": 3
   },
   "file_extension": ".py",
   "mimetype": "text/x-python",
   "name": "python",
   "nbconvert_exporter": "python",
   "pygments_lexer": "ipython3",
   "version": "3.5.2"
  }
 },
 "nbformat": 4,
 "nbformat_minor": 0
}
